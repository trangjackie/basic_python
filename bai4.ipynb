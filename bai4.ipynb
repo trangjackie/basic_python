{
 "cells": [
  {
   "cell_type": "markdown",
   "id": "d1f50549-f2eb-430e-a4ce-1f3424c62c2d",
   "metadata": {},
   "source": [
    "Một số được gọi là số nguyên tố đối xứng nếu nó là một số nguyên tố và khi đọc số này từ trái sang phải hay từ phải sang trái đều như nhau. Chẳng hạn số 131 là số nguyên tố đối xứng.\n",
    "Yêu cầu: Cho trước một số nguyên tố dương x. Hãy tính xem có bao nhiêu số nguyên tố đối xứng lớn hơn 10 và bé hơn x."
   ]
  },
  {
   "cell_type": "code",
   "execution_count": 9,
   "id": "d3282bc1-894a-4325-8cb7-54eb8a53ca81",
   "metadata": {
    "tags": []
   },
   "outputs": [
    {
     "name": "stdin",
     "output_type": "stream",
     "text": [
      "Nhập số nguyên dương x:  2323423\n"
     ]
    },
    {
     "name": "stdout",
     "output_type": "stream",
     "text": [
      "Số lượng số nguyên tố đối xứng lớn hơn 10 và bé hơn 2323423 là: 299\n"
     ]
    }
   ],
   "source": [
    "def is_prime(n):\n",
    "    if n <= 1:\n",
    "        return False\n",
    "    for i in range(2, int(n**0.5) + 1):\n",
    "        if n % i == 0:\n",
    "            return False\n",
    "    return True\n",
    "\n",
    "def is_palindrome(n):\n",
    "    return str(n) == str(n)[::-1]\n",
    "\n",
    "def count_palindromic_primes(x):\n",
    "    count = 0\n",
    "    for i in range(11, x):\n",
    "        if is_prime(i) and is_palindrome(i):\n",
    "            count += 1\n",
    "    return count\n",
    "\n",
    "# Nhập số nguyên dương x\n",
    "x = int(input(\"Nhập số nguyên dương x: \"))\n",
    "\n",
    "if x <= 10:\n",
    "    print(\"Vui lòng nhập số lớn hơn 10.\")\n",
    "else:\n",
    "    result = count_palindromic_primes(x)\n",
    "    print(f\"Số lượng số nguyên tố đối xứng lớn hơn 10 và bé hơn {x} là: {result}\")\n"
   ]
  },
  {
   "cell_type": "code",
   "execution_count": 10,
   "id": "5cd69e63-75bf-40d3-8b02-a20c99d14ca0",
   "metadata": {
    "tags": []
   },
   "outputs": [
    {
     "name": "stdin",
     "output_type": "stream",
     "text": [
      "Nhập số nguyên dương x:  2323423\n"
     ]
    },
    {
     "name": "stdout",
     "output_type": "stream",
     "text": [
      "Số nguyên tố đối xứng lớn nhất lớn hơn 10 và bé hơn 2323423 là: 1998991\n"
     ]
    }
   ],
   "source": [
    "def is_prime(n):\n",
    "    if n <= 1:\n",
    "        return False\n",
    "    for i in range(2, int(n**0.5) + 1):\n",
    "        if n % i == 0:\n",
    "            return False\n",
    "    return True\n",
    "\n",
    "def is_palindrome(n):\n",
    "    return str(n) == str(n)[::-1]\n",
    "\n",
    "def largest_palindromic_prime(x):\n",
    "    for i in range(x-1, 10, -1):\n",
    "        if is_prime(i) and is_palindrome(i):\n",
    "            return i\n",
    "    return None\n",
    "\n",
    "# Nhập số nguyên dương x\n",
    "x = int(input(\"Nhập số nguyên dương x: \"))\n",
    "\n",
    "if x <= 10:\n",
    "    print(\"Vui lòng nhập số lớn hơn 10.\")\n",
    "else:\n",
    "    result = largest_palindromic_prime(x)\n",
    "    if result:\n",
    "        print(f\"Số nguyên tố đối xứng lớn nhất lớn hơn 10 và bé hơn {x} là: {result}\")\n",
    "    else:\n",
    "        print(\"Không có số nguyên tố đối xứng nào trong khoảng này.\")\n"
   ]
  },
  {
   "cell_type": "markdown",
   "id": "742ac010-b584-4981-8ccb-4033b81ee40c",
   "metadata": {},
   "source": [
    "Hàm is_palindrome(n) kiểm tra xem số \n",
    "n\n",
    " có phải là số đối xứng hay không. Một số được coi là đối xứng nếu khi đọc từ trái sang phải và từ phải sang trái đều giống nhau, chẳng hạn như 121, 131 hoặc 1221."
   ]
  },
  {
   "cell_type": "markdown",
   "id": "40c354d3-ebee-4876-b86f-e5d3f02ee3d8",
   "metadata": {},
   "source": [
    "Giải thích:\n",
    "\n",
    "str(n): Chuyển số \n",
    "n\n",
    " thành một chuỗi (string) để dễ dàng xử lý.\n",
    "\n",
    "str(n)[::-1]: Đảo ngược chuỗi vừa tạo. Cú pháp [::-1] là một cách nhanh gọn để đảo ngược chuỗi trong Python.\n",
    "\n",
    "str(n) == str(n)[::-1]: So sánh chuỗi ban đầu với chuỗi đã đảo ngược. Nếu chúng giống nhau, nghĩa là số \n",
    "n\n",
    " là số đối xứng, hàm sẽ trả về True. Ngược lại, hàm sẽ trả về False."
   ]
  },
  {
   "cell_type": "code",
   "execution_count": null,
   "id": "afbced85-4603-4b76-9816-202503fcfd26",
   "metadata": {},
   "outputs": [],
   "source": []
  }
 ],
 "metadata": {
  "kernelspec": {
   "display_name": "Python 3.9 via SLURM 1G",
   "language": "python",
   "name": "jupyter-eg-kernel-slurm-py39-1i96jusr4"
  },
  "language_info": {
   "codemirror_mode": {
    "name": "ipython",
    "version": 3
   },
   "file_extension": ".py",
   "mimetype": "text/x-python",
   "name": "python",
   "nbconvert_exporter": "python",
   "pygments_lexer": "ipython3",
   "version": "3.9.19"
  }
 },
 "nbformat": 4,
 "nbformat_minor": 5
}
