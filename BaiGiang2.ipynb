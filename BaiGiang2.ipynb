{
 "cells": [
  {
   "cell_type": "markdown",
   "id": "d7705b60-fb32-45bc-a141-4eefa5f9c8a0",
   "metadata": {},
   "source": [
    "# Sử dụng thư viện trong python"
   ]
  },
  {
   "cell_type": "markdown",
   "id": "e544f87c-08c2-48e0-bd14-b50e50b59d18",
   "metadata": {},
   "source": [
    "Python có một loạt các thư viện và gói phong phú hỗ trợ từ khoa học dữ liệu đến phát triển web. Một số thư viện nổi bật:\n",
    "\n",
    "NumPy: Cung cấp các đối tượng mảng đa chiều và các công cụ để xử lý chúng.\n",
    "\n",
    "Pandas: Hỗ trợ phân tích dữ liệu và thao tác với dữ liệu bảng.\n",
    "\n",
    "Matplotlib và Seaborn: Tạo biểu đồ và trực quan hóa dữ liệu.\n",
    "\n",
    "SciPy: Cung cấp các thuật toán khoa học và kỹ thuật.\n",
    "\n",
    "Scikit-Learn: Hỗ trợ học máy và phân tích dữ liệu.\n",
    "\n",
    "Flask và Django: Các framework phát triển web mạnh mẽ."
   ]
  },
  {
   "cell_type": "markdown",
   "id": "9078c821-9812-4106-9659-a57a3bdcc3a2",
   "metadata": {},
   "source": [
    "## Cài đặt thư viện"
   ]
  },
  {
   "cell_type": "code",
   "execution_count": null,
   "id": "d75fd589-e0e0-494e-8f4c-a742727155b3",
   "metadata": {
    "tags": []
   },
   "outputs": [],
   "source": [
    "pip install numpy pandas matplotlib seaborn scipy scikit-learn flask django\n"
   ]
  },
  {
   "cell_type": "markdown",
   "id": "6c65a1c2-363c-4590-b75c-03ae26abe49d",
   "metadata": {},
   "source": [
    "Dưới đây là một vài ví dụ sử dụng cơ bản:\n",
    "\n",
    "## 1. NumPy:"
   ]
  },
  {
   "cell_type": "code",
   "execution_count": 15,
   "id": "20419321-c5a4-4c28-8bfc-e8daccff567e",
   "metadata": {
    "tags": []
   },
   "outputs": [
    {
     "name": "stdout",
     "output_type": "stream",
     "text": [
      "Mảng 1 chiều: [1 2 3 4 5]\n",
      "Mảng 2 chiều:\n",
      " [[1 2 3]\n",
      " [4 5 6]]\n",
      "Phần tử đầu tiên của mảng 1 chiều: 1\n",
      "Phần tử ở hàng 2, cột 3 của mảng 2 chiều: 6\n"
     ]
    }
   ],
   "source": [
    "import numpy as np\n",
    "\n",
    "# Tạo mảng 1 chiều\n",
    "arr = np.array([1, 2, 3, 4, 5])\n",
    "print(\"Mảng 1 chiều:\", arr)\n",
    "\n",
    "# Tạo mảng 2 chiều\n",
    "matrix = np.array([[1, 2, 3], [4, 5, 6]])\n",
    "print(\"Mảng 2 chiều:\\n\", matrix)\n",
    "\n",
    "# Chỉ số truy cập phần tử\n",
    "print(\"Phần tử đầu tiên của mảng 1 chiều:\", arr[0])\n",
    "print(\"Phần tử ở hàng 2, cột 3 của mảng 2 chiều:\", matrix[1, 2])\n",
    "\n"
   ]
  },
  {
   "cell_type": "markdown",
   "id": "ae86dc74-e656-4924-99bf-6890729c8424",
   "metadata": {},
   "source": [
    "### Thao tác số học"
   ]
  },
  {
   "cell_type": "code",
   "execution_count": 16,
   "id": "a0d03264-9993-4243-a9e6-b4982589f026",
   "metadata": {
    "tags": []
   },
   "outputs": [
    {
     "name": "stdout",
     "output_type": "stream",
     "text": [
      "Cộng mảng: [5 7 9]\n",
      "Trừ mảng: [-3 -3 -3]\n",
      "Nhân mảng: [ 4 10 18]\n",
      "Chia mảng: [0.25 0.4  0.5 ]\n"
     ]
    }
   ],
   "source": [
    "# Tạo 2 mảng\n",
    "arr1 = np.array([1, 2, 3])\n",
    "arr2 = np.array([4, 5, 6])\n",
    "\n",
    "# Cộng, trừ, nhân, chia các mảng\n",
    "print(\"Cộng mảng:\", arr1 + arr2)  # Output: [5 7 9]\n",
    "print(\"Trừ mảng:\", arr1 - arr2)   # Output: [-3 -3 -3]\n",
    "print(\"Nhân mảng:\", arr1 * arr2)  # Output: [4 10 18]\n",
    "print(\"Chia mảng:\", arr1 / arr2)  # Output: [0.25 0.4 0.5]\n"
   ]
  },
  {
   "cell_type": "markdown",
   "id": "fd2f3d01-8e44-4893-8182-d7b19cd27f17",
   "metadata": {
    "tags": []
   },
   "source": [
    "### Hàm thống kê"
   ]
  },
  {
   "cell_type": "code",
   "execution_count": 18,
   "id": "f96658d0-f120-4b3b-b70c-8b9beec43d83",
   "metadata": {
    "tags": []
   },
   "outputs": [
    {
     "name": "stdout",
     "output_type": "stream",
     "text": [
      "Trung bình: 5.5\n",
      "Tổng: 55\n",
      "Min: 1\n",
      "Max: 10\n"
     ]
    }
   ],
   "source": [
    "# Tạo mảng\n",
    "data = np.array([1, 2, 3, 4, 5, 6, 7, 8, 9, 10])\n",
    "\n",
    "# Tính giá trị trung bình, tổng, min, max\n",
    "print(\"Trung bình:\", np.mean(data))  # Output: 5.5\n",
    "print(\"Tổng:\", np.sum(data))         # Output: 55\n",
    "print(\"Min:\", np.min(data))          # Output: 1\n",
    "print(\"Max:\", np.max(data))          # Output: 10\n"
   ]
  },
  {
   "cell_type": "markdown",
   "id": "3abc6e8c-9283-4408-a577-c07ffb3dc156",
   "metadata": {},
   "source": [
    "### Hình dạng và kích thước của mảng"
   ]
  },
  {
   "cell_type": "code",
   "execution_count": 19,
   "id": "562e916d-28c2-4905-bbaa-b32557d1391e",
   "metadata": {
    "tags": []
   },
   "outputs": [
    {
     "name": "stdout",
     "output_type": "stream",
     "text": [
      "Hình dạng của mảng: (2, 3)\n",
      "Kích thước của mảng: 6\n"
     ]
    }
   ],
   "source": [
    "# Tạo mảng 2 chiều\n",
    "matrix = np.array([[1, 2, 3], [4, 5, 6]])\n",
    "\n",
    "# Hình dạng của mảng\n",
    "print(\"Hình dạng của mảng:\", matrix.shape)  # Output: (2, 3)\n",
    "\n",
    "# Kích thước của mảng\n",
    "print(\"Kích thước của mảng:\", matrix.size)  # Output: 6\n"
   ]
  },
  {
   "cell_type": "markdown",
   "id": "97c05da5-6354-4df0-8bb6-d276a2508045",
   "metadata": {},
   "source": [
    "## 2. Pandas:\n",
    "### Tạo DataFrame từ Dictionary"
   ]
  },
  {
   "cell_type": "code",
   "execution_count": 20,
   "id": "b9d611fc-22da-4ca9-bef8-c99dd0d3a422",
   "metadata": {
    "tags": []
   },
   "outputs": [
    {
     "name": "stdout",
     "output_type": "stream",
     "text": [
      "      Name  Age           City\n",
      "0    Alice   25       New York\n",
      "1      Bob   30  San Francisco\n",
      "2  Charlie   35    Los Angeles\n"
     ]
    }
   ],
   "source": [
    "import pandas as pd\n",
    "\n",
    "# Tạo DataFrame từ dictionary\n",
    "data = {\n",
    "    'Name': ['Alice', 'Bob', 'Charlie'],\n",
    "    'Age': [25, 30, 35],\n",
    "    'City': ['New York', 'San Francisco', 'Los Angeles']\n",
    "}\n",
    "\n",
    "df = pd.DataFrame(data)\n",
    "print(df)\n",
    "\n"
   ]
  },
  {
   "cell_type": "markdown",
   "id": "69c82afa-79f7-414f-9dea-ae7e60fdcb0a",
   "metadata": {},
   "source": [
    "### Đọc dữ liệu từ tệp CSV"
   ]
  },
  {
   "cell_type": "code",
   "execution_count": null,
   "id": "42cd417c-f730-42c7-96e0-533a2e5f9b84",
   "metadata": {},
   "outputs": [],
   "source": [
    "# Đọc dữ liệu từ file CSV\n",
    "df = pd.read_csv('example.csv')\n",
    "print(df.head())  # Hiển thị 5 dòng đầu tiên\n"
   ]
  },
  {
   "cell_type": "markdown",
   "id": "2a614ead-860b-4018-839d-72ebf093184e",
   "metadata": {},
   "source": [
    "### Truy cập dữ liệu trong DataFrame"
   ]
  },
  {
   "cell_type": "code",
   "execution_count": null,
   "id": "e9cf70f7-2564-4417-8db9-80ab9135358f",
   "metadata": {},
   "outputs": [],
   "source": [
    "# Truy cập cột\n",
    "print(df['Name'])\n",
    "\n",
    "# Truy cập hàng\n",
    "print(df.loc[0])\n",
    "\n",
    "# Truy cập bằng chỉ số\n",
    "print(df.iloc[1, 2])  # Hàng thứ 2, cột thứ 3\n"
   ]
  },
  {
   "cell_type": "markdown",
   "id": "4556578d-8d6a-4a92-9fe6-adc5df6cf057",
   "metadata": {},
   "source": [
    "### Lọc dữ liệu"
   ]
  },
  {
   "cell_type": "code",
   "execution_count": 21,
   "id": "35c12903-9eb5-4526-a1e4-c44c4ef9d1fc",
   "metadata": {
    "tags": []
   },
   "outputs": [
    {
     "name": "stdout",
     "output_type": "stream",
     "text": [
      "      Name  Age           City\n",
      "1      Bob   30  San Francisco\n",
      "2  Charlie   35    Los Angeles\n"
     ]
    }
   ],
   "source": [
    "# Lọc các hàng có Age > 25\n",
    "filtered_df = df[df['Age'] > 25]\n",
    "print(filtered_df)\n"
   ]
  },
  {
   "cell_type": "markdown",
   "id": "c9607a7b-a096-4bf5-a94c-76d479191007",
   "metadata": {},
   "source": [
    "### Gộp và Tóm tắt dữ liệu"
   ]
  },
  {
   "cell_type": "code",
   "execution_count": 22,
   "id": "90f18ffb-c373-468a-80fb-acf7eaa05502",
   "metadata": {
    "tags": []
   },
   "outputs": [
    {
     "name": "stdout",
     "output_type": "stream",
     "text": [
      "City\n",
      "Los Angeles      35.0\n",
      "New York         25.0\n",
      "San Francisco    30.0\n",
      "Name: Age, dtype: float64\n"
     ]
    }
   ],
   "source": [
    "# Tính trung bình tuổi theo từng thành phố\n",
    "average_age = df.groupby('City')['Age'].mean()\n",
    "print(average_age)\n"
   ]
  },
  {
   "cell_type": "markdown",
   "id": "2136ba25-3a22-4af6-88cd-71911c79319c",
   "metadata": {},
   "source": [
    "### Xử lý dữ liệu thiếu"
   ]
  },
  {
   "cell_type": "code",
   "execution_count": 23,
   "id": "f341d603-defb-45e1-aee4-ddcdf86d6c50",
   "metadata": {
    "tags": []
   },
   "outputs": [
    {
     "name": "stdout",
     "output_type": "stream",
     "text": [
      "    Name    Age   City\n",
      "0  False  False  False\n",
      "1  False   True  False\n",
      "2  False  False   True\n",
      "3   True  False  False\n",
      "      Name        Age           City\n",
      "0    Alice  25.000000       New York\n",
      "1      Bob  33.333333  San Francisco\n",
      "2  Charlie  35.000000        Unknown\n",
      "3  Unknown  40.000000    Los Angeles\n"
     ]
    }
   ],
   "source": [
    "# Tạo DataFrame với dữ liệu thiếu\n",
    "data = {\n",
    "    'Name': ['Alice', 'Bob', 'Charlie', None],\n",
    "    'Age': [25, None, 35, 40],\n",
    "    'City': ['New York', 'San Francisco', None, 'Los Angeles']\n",
    "}\n",
    "\n",
    "df = pd.DataFrame(data)\n",
    "\n",
    "# Kiểm tra dữ liệu thiếu\n",
    "print(df.isnull())\n",
    "\n",
    "# Điền giá trị mặc định cho dữ liệu thiếu\n",
    "df.fillna({\n",
    "    'Name': 'Unknown',\n",
    "    'Age': df['Age'].mean(),  # Điền tuổi trung bình\n",
    "    'City': 'Unknown'\n",
    "}, inplace=True)\n",
    "print(df)\n"
   ]
  },
  {
   "cell_type": "markdown",
   "id": "911c7137-c14c-442b-b818-303cade75c2d",
   "metadata": {},
   "source": [
    "## 3. Matplotlib và Seaborn:"
   ]
  },
  {
   "cell_type": "code",
   "execution_count": 4,
   "id": "973e4aea-6403-4d5a-92eb-cccbdc1eb87a",
   "metadata": {
    "tags": []
   },
   "outputs": [
    {
     "data": {
      "image/png": "[encoded data removed]",
      "text/plain": [
       "<Figure size 640x480 with 1 Axes>"
      ]
     },
     "metadata": {},
     "output_type": "display_data"
    }
   ],
   "source": [
    "import pandas as pd\n",
    "import seaborn as sns\n",
    "import matplotlib.pyplot as plt\n",
    "\n",
    "# Tạo một DataFrame với các cột 'Age' và 'Height'\n",
    "data = {'Age': [25, 30, 35, 40], 'Height': [150, 160, 165, 170]}\n",
    "df = pd.DataFrame(data)\n",
    "\n",
    "# Vẽ biểu đồ phân tán với Seaborn\n",
    "sns.scatterplot(x='Age', y='Height', data=df)\n",
    "plt.show()\n",
    "\n"
   ]
  },
  {
   "cell_type": "markdown",
   "id": "2b489f20-e36d-4e93-b7df-e5e5aca1f8c8",
   "metadata": {},
   "source": [
    "## 4. SciPy"
   ]
  },
  {
   "cell_type": "code",
   "execution_count": 5,
   "id": "1822b8c6-72d6-4b4a-b1cd-ae2bccb4d6f5",
   "metadata": {
    "tags": []
   },
   "outputs": [
    {
     "name": "stdout",
     "output_type": "stream",
     "text": [
      "-1.0 0.34659350708733416\n"
     ]
    }
   ],
   "source": [
    "from scipy import stats\n",
    "\n",
    "# Tính giá trị t-test\n",
    "data1 = [1, 2, 3, 4, 5]\n",
    "data2 = [2, 3, 4, 5, 6]\n",
    "t_stat, p_val = stats.ttest_ind(data1, data2)\n",
    "print(t_stat, p_val)\n"
   ]
  },
  {
   "cell_type": "markdown",
   "id": "c2077b0d-7e0a-469e-9585-f762cf939863",
   "metadata": {},
   "source": [
    "## 5. Scikit-Learn"
   ]
  },
  {
   "cell_type": "code",
   "execution_count": 6,
   "id": "a17014f5-8071-4283-b20a-d641810c7e3d",
   "metadata": {
    "tags": []
   },
   "outputs": [
    {
     "name": "stdout",
     "output_type": "stream",
     "text": [
      "[37.5]\n"
     ]
    }
   ],
   "source": [
    "from sklearn.linear_model import LinearRegression\n",
    "\n",
    "# Tạo mô hình hồi quy tuyến tính\n",
    "model = LinearRegression()\n",
    "X = [[1], [2], [3], [4]]\n",
    "y = [10, 20, 25, 30]\n",
    "\n",
    "model.fit(X, y)\n",
    "print(model.predict([[5]]))\n"
   ]
  },
  {
   "cell_type": "markdown",
   "id": "b61e2d32-2f86-4392-803b-19ea614ea4fe",
   "metadata": {},
   "source": [
    "## 6. Flask"
   ]
  },
  {
   "cell_type": "code",
   "execution_count": 7,
   "id": "5192a036-4f3c-4f14-b0fa-6712f1092f56",
   "metadata": {
    "tags": []
   },
   "outputs": [
    {
     "name": "stdout",
     "output_type": "stream",
     "text": [
      " * Serving Flask app '__main__'\n",
      " * Debug mode: on\n"
     ]
    },
    {
     "name": "stderr",
     "output_type": "stream",
     "text": [
      "WARNING: This is a development server. Do not use it in a production deployment. Use a production WSGI server instead.\n",
      " * Running on http://127.0.0.1:5000\n",
      "Press CTRL+C to quit\n",
      " * Restarting with stat\n",
      "Traceback (most recent call last):\n",
      "  File \"/cm/shared/apps/jupyter-eg-kernel-wlm-py39/4.0.1/lib/python3.9/site-packages/ipykernel_launcher.py\", line 18, in <module>\n",
      "    app.launch_new_instance()\n",
      "  File \"/cm/shared/apps/jupyter-eg-kernel-wlm-py39/4.0.1/lib/python3.9/site-packages/traitlets/config/application.py\", line 1074, in launch_instance\n",
      "    app.initialize(argv)\n",
      "  File \"/cm/shared/apps/jupyter-eg-kernel-wlm-py39/4.0.1/lib/python3.9/site-packages/traitlets/config/application.py\", line 118, in inner\n",
      "    return method(app, *args, **kwargs)\n",
      "  File \"/cm/shared/apps/jupyter-eg-kernel-wlm-py39/4.0.1/lib/python3.9/site-packages/ipykernel/kernelapp.py\", line 692, in initialize\n",
      "    self.init_sockets()\n",
      "  File \"/cm/shared/apps/jupyter-eg-kernel-wlm-py39/4.0.1/lib/python3.9/site-packages/ipykernel/kernelapp.py\", line 331, in init_sockets\n",
      "    self.shell_port = self._bind_socket(self.shell_socket, self.shell_port)\n",
      "  File \"/cm/shared/apps/jupyter-eg-kernel-wlm-py39/4.0.1/lib/python3.9/site-packages/ipykernel/kernelapp.py\", line 253, in _bind_socket\n",
      "    return self._try_bind_socket(s, port)\n",
      "  File \"/cm/shared/apps/jupyter-eg-kernel-wlm-py39/4.0.1/lib/python3.9/site-packages/ipykernel/kernelapp.py\", line 229, in _try_bind_socket\n",
      "    s.bind(\"tcp://%s:%i\" % (self.ip, port))\n",
      "  File \"/cm/shared/apps/jupyter-eg-kernel-wlm-py39/4.0.1/lib/python3.9/site-packages/zmq/sugar/socket.py\", line 311, in bind\n",
      "    super().bind(addr)\n",
      "  File \"_zmq.py\", line 898, in zmq.backend.cython._zmq.Socket.bind\n",
      "  File \"_zmq.py\", line 160, in zmq.backend.cython._zmq._check_rc\n",
      "zmq.error.ZMQError: Address already in use (addr='tcp://0.0.0.0:23001')\n"
     ]
    },
    {
     "ename": "SystemExit",
     "evalue": "1",
     "output_type": "error",
     "traceback": [
      "An exception has occurred, use %tb to see the full traceback.\n",
      "\u001b[0;31mSystemExit\u001b[0m\u001b[0;31m:\u001b[0m 1\n"
     ]
    },
    {
     "name": "stderr",
     "output_type": "stream",
     "text": [
      "/cm/shared/apps/jupyter-eg-kernel-wlm-py39/4.0.1/lib/python3.9/site-packages/IPython/core/interactiveshell.py:3558: UserWarning: To exit: use 'exit', 'quit', or Ctrl-D.\n",
      "  warn(\"To exit: use 'exit', 'quit', or Ctrl-D.\", stacklevel=1)\n"
     ]
    }
   ],
   "source": [
    "from flask import Flask\n",
    "\n",
    "app = Flask(__name__)\n",
    "\n",
    "@app.route('/')\n",
    "def home():\n",
    "    return \"Hello, Flask!\"\n",
    "\n",
    "if __name__ == '__main__':\n",
    "    app.run(debug=True)\n"
   ]
  },
  {
   "cell_type": "code",
   "execution_count": null,
   "id": "57cfe102-8f65-49f6-b93b-6840e2e0b18b",
   "metadata": {},
   "outputs": [],
   "source": []
  }
 ],
 "metadata": {
  "kernelspec": {
   "display_name": "Python 3.9 via SLURM 1G",
   "language": "python",
   "name": "jupyter-eg-kernel-slurm-py39-1i96jusr4"
  },
  "language_info": {
   "codemirror_mode": {
    "name": "ipython",
    "version": 3
   },
   "file_extension": ".py",
   "mimetype": "text/x-python",
   "name": "python",
   "nbconvert_exporter": "python",
   "pygments_lexer": "ipython3",
   "version": "3.9.19"
  }
 },
 "nbformat": 4,
 "nbformat_minor": 5
}
