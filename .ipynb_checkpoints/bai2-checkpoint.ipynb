{
 "cells": [
  {
   "cell_type": "markdown",
   "id": "4b4a2ce2-a8a9-4586-afdb-4e0a231c5593",
   "metadata": {},
   "source": [
    "Số tự nhiên y được gọi là một ước thực sự của số tự nhiên x nếu x chia hết cho y và x > y. Yêu cầu: Nhập từ bàn phím một số nguyên dương x với x > 1, hãy tìm và in ra màn hình số y là ước thực sự lớn nhất của số x"
   ]
  },
  {
   "cell_type": "code",
   "execution_count": 3,
   "id": "c67a029c-4d64-40be-886a-dfb4e97b5e1d",
   "metadata": {
    "tags": []
   },
   "outputs": [
    {
     "name": "stdin",
     "output_type": "stream",
     "text": [
      "Nhập số nguyên dương x với x > 1:  39\n"
     ]
    },
    {
     "name": "stdout",
     "output_type": "stream",
     "text": [
      "Ước thực sự lớn nhất của 39 là: 13\n"
     ]
    }
   ],
   "source": [
    "def largest_proper_divisor(x):\n",
    "    # Tìm ước thực sự lớn nhất của x\n",
    "    for i in range(x // 2, 0, -1):\n",
    "        if x % i == 0:\n",
    "            return i\n",
    "\n",
    "# Nhập vào số nguyên dương x\n",
    "x = int(input(\"Nhập số nguyên dương x với x > 1: \"))\n",
    "\n",
    "if x <= 1:\n",
    "    print(\"Vui lòng nhập một số lớn hơn 1.\")\n",
    "else:\n",
    "    y = largest_proper_divisor(x)\n",
    "    print(f\"Ước thực sự lớn nhất của {x} là: {y}\")\n"
   ]
  },
  {
   "cell_type": "markdown",
   "id": "071b990e-06c0-4e34-9b63-dd1c8150b6e6",
   "metadata": {},
   "source": [
    " Tìm ước thực sự lớn nhất của một số x bằng cách kiểm tra các số từ x//2 tới 1.\n",
    " Nếu x chia hết cho một số  i, thì i là ước thực sự lớn nhất"
   ]
  },
  {
   "cell_type": "markdown",
   "id": "029acc29-06d8-4196-92be-7b3c319792d7",
   "metadata": {},
   "source": [
    "x // 2 là phép chia lấy phần nguyên trong Python. Khi bạn sử dụng //, nó sẽ chia hai số và chỉ lấy phần nguyên, bỏ qua phần dư.\n",
    "Ví dụ:  \n",
    "7 // 2 sẽ cho kết quả là 3\n",
    "10 // 2 sẽ cho kết quả là 5"
   ]
  },
  {
   "cell_type": "code",
   "execution_count": null,
   "id": "5ba2a195-957e-4d9a-b9e8-280432a8eab3",
   "metadata": {},
   "outputs": [],
   "source": []
  }
 ],
 "metadata": {
  "kernelspec": {
   "display_name": "Python 3.9 via SLURM 1G",
   "language": "python",
   "name": "jupyter-eg-kernel-slurm-py39-1i96jusr4"
  },
  "language_info": {
   "codemirror_mode": {
    "name": "ipython",
    "version": 3
   },
   "file_extension": ".py",
   "mimetype": "text/x-python",
   "name": "python",
   "nbconvert_exporter": "python",
   "pygments_lexer": "ipython3",
   "version": "3.9.19"
  }
 },
 "nbformat": 4,
 "nbformat_minor": 5
}
