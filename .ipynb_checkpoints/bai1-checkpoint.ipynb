{
 "cells": [
  {
   "cell_type": "markdown",
   "id": "afed0eba-4b59-448b-a25d-d473cc486775",
   "metadata": {
    "tags": []
   },
   "source": [
    "Cho phương trình hóa học: 3Fe +2O2 tạo thành Fe3O4. \n",
    "Cho biết số mol của Fe là số A, số mol của O2 là B. \n",
    "Yêu cầu: Hãy lập trình bằng python đưa ra phần nguyên số mol của chất sản phẩm Fe3O4. \n",
    "Dữ liệu vào từ tệp văn bản HOAHOC.INP có 1 dòng duy nhất chứa hai số tự nhiên A và B. \n",
    "Kết quả ghi ra tệp văn bản HOAHOC.OUT"
   ]
  },
  {
   "cell_type": "markdown",
   "id": "c9992315-bd34-4707-acd2-dee4bd5602af",
   "metadata": {},
   "source": [
    "https://www.chuyentin.pro/2024/01/e-thi-hoc-sinh-gioi-cap-thcs-mon-tin_21.html"
   ]
  },
  {
   "cell_type": "markdown",
   "id": "03ab2c55-1ae1-4f87-a41b-01eb6b9d2c5f",
   "metadata": {},
   "source": [
    "Chương trình này thực hiện các bước sau:\n",
    "\n",
    "1. Đọc dữ liệu từ tệp HOAHOC.INP và tách thành hai số nguyên A và B.\n",
    "2. Tính số mol của Fe3O4 dựa trên tỉ lệ mol trong phương trình hóa học.\n",
    "3. Ghi kết quả (phần nguyên số mol của Fe3O4) vào tệp HOAHOC.OUT"
   ]
  },
  {
   "cell_type": "code",
   "execution_count": 2,
   "id": "9b1b54ac-6ad6-48f4-a491-fa084105db9e",
   "metadata": {
    "tags": []
   },
   "outputs": [],
   "source": [
    "# Đọc dữ liệu từ tệp HOAHOC.INP\n",
    "with open('basic_python/HOAHOC.INP', 'r') as file:\n",
    "    data = file.readline().strip()\n",
    "    A, B = map(int, data.split())\n",
    "\n",
    "# Tính số mol của Fe3O4\n",
    "# Phương trình hóa học: 3Fe + 2O2 -> Fe3O4\n",
    "# Tỉ lệ mol: 3 mol Fe : 2 mol O2 -> 1 mol Fe3O4\n",
    "mol_Fe3O4 = min(A // 3, B // 2)\n",
    "\n",
    "# Ghi kết quả vào tệp HOAHOC.OUT\n",
    "with open('basic_python/HOAHOC.OUT', 'w') as file:\n",
    "    file.write(str(mol_Fe3O4))\n"
   ]
  },
  {
   "cell_type": "code",
   "execution_count": 8,
   "id": "70196441-c346-486b-b95b-b2c626888cd7",
   "metadata": {
    "tags": []
   },
   "outputs": [],
   "source": [
    "try:\n",
    "    # Đọc dữ liệu từ tệp HOAHOC.INP\n",
    "    with open('basic_python/HOAHOC.INP', 'r') as file:\n",
    "        data = file.readline().strip()\n",
    "        values = data.split()\n",
    "        \n",
    "        if len(values) != 2:\n",
    "            raise ValueError(\"Dữ liệu không đúng định dạng. Cần có 2 giá trị.\")\n",
    "\n",
    "        A, B = map(int, values)\n",
    "\n",
    "    # Tính số mol của Fe3O4\n",
    "    # Phương trình hóa học: 3Fe + 2O2 -> Fe3O4\n",
    "    # Tỉ lệ mol: 3 mol Fe : 2 mol O2 -> 1 mol Fe3O4\n",
    "    mol_Fe3O4 = min(A // 3, B // 2)\n",
    "\n",
    "    # Ghi kết quả vào tệp HOAHOC.OUT\n",
    "    with open('basic_python/HOAHOC.OUT', 'w') as file:\n",
    "        file.write(str(mol_Fe3O4))\n",
    "\n",
    "except ValueError as e:\n",
    "    print(f\"Lỗi: {e}\")\n"
   ]
  },
  {
   "cell_type": "code",
   "execution_count": null,
   "id": "581fa940-bb00-4b46-b25e-a5274f18afe6",
   "metadata": {},
   "outputs": [],
   "source": []
  }
 ],
 "metadata": {
  "kernelspec": {
   "display_name": "Python 3.9 via SLURM 1G",
   "language": "python",
   "name": "jupyter-eg-kernel-slurm-py39-1i96jusr4"
  },
  "language_info": {
   "codemirror_mode": {
    "name": "ipython",
    "version": 3
   },
   "file_extension": ".py",
   "mimetype": "text/x-python",
   "name": "python",
   "nbconvert_exporter": "python",
   "pygments_lexer": "ipython3",
   "version": "3.9.19"
  }
 },
 "nbformat": 4,
 "nbformat_minor": 5
}
