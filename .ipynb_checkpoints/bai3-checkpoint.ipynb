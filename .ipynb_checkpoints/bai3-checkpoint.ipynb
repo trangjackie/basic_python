{
 "cells": [
  {
   "cell_type": "markdown",
   "id": "2b274613-bba0-4628-9248-8a4e1892e317",
   "metadata": {},
   "source": [
    "Nhập từ bàn phím một xâu ký tự s. \n",
    "Yêu cầu: Hãy đếm và in ra màn hình số lượng ký tự xuất hiện ít nhất 2 lần trong xâu ký tự s (có phân biệt chữ hoa và chữ thường). \n",
    "Xâu ký tự S có không quá 255 ký tự."
   ]
  },
  {
   "cell_type": "markdown",
   "id": "cd23dc40-d408-4160-9902-6de614390120",
   "metadata": {},
   "source": []
  },
  {
   "cell_type": "code",
   "execution_count": 5,
   "id": "a1bf3923-596f-4fe2-bc19-e9c3d83f03fb",
   "metadata": {
    "tags": []
   },
   "outputs": [
    {
     "name": "stdin",
     "output_type": "stream",
     "text": [
      "Nhập xâu ký tự:  abcbMbdmccccd\n"
     ]
    },
    {
     "name": "stdout",
     "output_type": "stream",
     "text": [
      "Số lượng ký tự xuất hiện ít nhất 2 lần: 3\n"
     ]
    }
   ],
   "source": [
    "from collections import Counter\n",
    "\n",
    "def count_repeated_characters(s):\n",
    "    counter = Counter(s)\n",
    "    count = 0\n",
    "    for char in counter:\n",
    "        if counter[char] >= 2:\n",
    "            count += 1\n",
    "    return count\n",
    "\n",
    "# Nhập xâu ký tự s từ bàn phím\n",
    "s = input(\"Nhập xâu ký tự: \")\n",
    "\n",
    "if len(s) > 255:\n",
    "    print(\"Xâu ký tự không được quá 255 ký tự.\")\n",
    "else:\n",
    "    result = count_repeated_characters(s)\n",
    "    print(f\"Số lượng ký tự xuất hiện ít nhất 2 lần: {result}\")\n"
   ]
  },
  {
   "cell_type": "markdown",
   "id": "9bcb7d1c-60d1-45f1-bd08-404c1728a274",
   "metadata": {},
   "source": [
    "Cách khác: Không dùng thư viện counter"
   ]
  },
  {
   "cell_type": "code",
   "execution_count": 8,
   "id": "84703cbf-38b1-4ea0-baa4-394f149002d2",
   "metadata": {
    "tags": []
   },
   "outputs": [
    {
     "name": "stdin",
     "output_type": "stream",
     "text": [
      "Nhập xâu ký tự:  abcbMbdmccccd\n"
     ]
    },
    {
     "name": "stdout",
     "output_type": "stream",
     "text": [
      "Số lượng ký tự xuất hiện ít nhất 2 lần: 3\n"
     ]
    }
   ],
   "source": [
    "def count_repeated_characters2(s):\n",
    "    char_count = {}\n",
    "    for char in s:\n",
    "        if char in char_count:\n",
    "            char_count[char] += 1\n",
    "        else:\n",
    "            char_count[char] = 1\n",
    "\n",
    "    count = 0\n",
    "    for key in char_count:\n",
    "        if char_count[key] >= 2:\n",
    "            count += 1\n",
    "    \n",
    "    return count\n",
    "\n",
    "# Nhập xâu ký tự s từ bàn phím\n",
    "s = input(\"Nhập xâu ký tự: \")\n",
    "\n",
    "if len(s) > 255:\n",
    "    print(\"Xâu ký tự không được quá 255 ký tự.\")\n",
    "else:\n",
    "    result = count_repeated_characters2(s)\n",
    "    print(f\"Số lượng ký tự xuất hiện ít nhất 2 lần: {result}\")\n",
    "    "
   ]
  },
  {
   "cell_type": "code",
   "execution_count": null,
   "id": "e08f044c-cf2b-4e35-9f7f-62b5099602a8",
   "metadata": {},
   "outputs": [],
   "source": []
  }
 ],
 "metadata": {
  "kernelspec": {
   "display_name": "Python 3.9 via SLURM 1G",
   "language": "python",
   "name": "jupyter-eg-kernel-slurm-py39-1i96jusr4"
  },
  "language_info": {
   "codemirror_mode": {
    "name": "ipython",
    "version": 3
   },
   "file_extension": ".py",
   "mimetype": "text/x-python",
   "name": "python",
   "nbconvert_exporter": "python",
   "pygments_lexer": "ipython3",
   "version": "3.9.19"
  }
 },
 "nbformat": 4,
 "nbformat_minor": 5
}
