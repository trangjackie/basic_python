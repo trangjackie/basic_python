{
 "cells": [
  {
   "cell_type": "markdown",
   "id": "6c848f73-7cd8-4203-a8e3-09bd9664e33d",
   "metadata": {},
   "source": [
    "# Tổng của các hoán vị"
   ]
  },
  {
   "cell_type": "markdown",
   "id": "90ba4e2d-2896-4160-b54c-efd81cf84c03",
   "metadata": {},
   "source": [
    "Cho trước một số tự nhiên x có n chữ số và không có 2 chữ số nào giống nhau. Người ta thay đổi trật tự các chữ số của số x cho nhau để được số tự nhiên mới cũng có n chữ số và mỗi số mới này được gọi là một hoán vị của số x.\n",
    "Yêu cầu: Tính tổng của số x và tất cả các hoán vị của x.\n",
    "Input: Một số nguyên dương x.\n",
    "Output: Ghi số nguyên m thỏa mãn yêu cầu của đề bài."
   ]
  },
  {
   "cell_type": "code",
   "execution_count": 11,
   "id": "b6eb8206-f09e-44a8-bf28-3a3d18dacdfc",
   "metadata": {
    "tags": []
   },
   "outputs": [
    {
     "name": "stdin",
     "output_type": "stream",
     "text": [
      "Nhập số nguyên dương x:  234657568\n"
     ]
    },
    {
     "name": "stdout",
     "output_type": "stream",
     "text": [
      "Tổng của 234657568 và tất cả các hoán vị của nó là: 206080234451488\n"
     ]
    }
   ],
   "source": [
    "from itertools import permutations\n",
    "\n",
    "def sum_of_permutations(x):\n",
    "    # Chuyển số x thành chuỗi để dễ dàng xử lý\n",
    "    x_str = str(x)\n",
    "    # Tạo tất cả các hoán vị của chuỗi x\n",
    "    perms = permutations(x_str)\n",
    "    # Tính tổng các hoán vị\n",
    "    total_sum = sum(int(''.join(p)) for p in perms)\n",
    "    # Cộng thêm số gốc x\n",
    "    total_sum += x\n",
    "    return total_sum\n",
    "\n",
    "# Nhập vào số nguyên dương x\n",
    "x = int(input(\"Nhập số nguyên dương x: \"))\n",
    "\n",
    "if x <= 0:\n",
    "    print(\"Vui lòng nhập một số nguyên dương.\")\n",
    "else:\n",
    "    result = sum_of_permutations(x)\n",
    "    print(f\"Tổng của {x} và tất cả các hoán vị của nó là: {result}\")\n"
   ]
  },
  {
   "cell_type": "code",
   "execution_count": 13,
   "id": "fb1a0a5c-b67c-48e9-a159-9d3ff225caa4",
   "metadata": {
    "tags": []
   },
   "outputs": [
    {
     "name": "stdin",
     "output_type": "stream",
     "text": [
      "Nhập số nguyên dương x:  234657568\n"
     ]
    },
    {
     "name": "stdout",
     "output_type": "stream",
     "text": [
      "Tổng của 234657568 và tất cả các hoán vị của nó là: 206080234451488\n"
     ]
    }
   ],
   "source": [
    "# Một cách khác\n",
    "def permute(s):\n",
    "    # Tạo ra tất cả các hoán vị của chuỗi s\n",
    "    if len(s) == 1:\n",
    "        return [s]\n",
    "\n",
    "    permutations = []\n",
    "    for i in range(len(s)):\n",
    "        current_char = s[i]\n",
    "        remaining_chars = s[:i] + s[i+1:]\n",
    "        for p in permute(remaining_chars):\n",
    "            permutations.append(current_char + p)\n",
    "    return permutations\n",
    "\n",
    "def sum_of_permutations(x):\n",
    "    # Chuyển số x thành chuỗi để dễ dàng xử lý\n",
    "    x_str = str(x)\n",
    "    # Tạo tất cả các hoán vị của chuỗi x\n",
    "    perms = permute(x_str)\n",
    "    # Tính tổng các hoán vị\n",
    "    total_sum = sum(int(p) for p in perms)\n",
    "    # Cộng thêm số gốc x\n",
    "    total_sum += x\n",
    "    return total_sum\n",
    "\n",
    "# Nhập vào số nguyên dương x\n",
    "x = int(input(\"Nhập số nguyên dương x: \"))\n",
    "\n",
    "if x <= 0:\n",
    "    print(\"Vui lòng nhập một số nguyên dương.\")\n",
    "else:\n",
    "    result = sum_of_permutations(x)\n",
    "    print(f\"Tổng của {x} và tất cả các hoán vị của nó là: {result}\")\n"
   ]
  },
  {
   "cell_type": "code",
   "execution_count": null,
   "id": "d6210554-376d-46ed-b294-a3f2038923af",
   "metadata": {},
   "outputs": [],
   "source": []
  }
 ],
 "metadata": {
  "kernelspec": {
   "display_name": "Python 3.9 via SLURM 1G",
   "language": "python",
   "name": "jupyter-eg-kernel-slurm-py39-1i96jusr4"
  },
  "language_info": {
   "codemirror_mode": {
    "name": "ipython",
    "version": 3
   },
   "file_extension": ".py",
   "mimetype": "text/x-python",
   "name": "python",
   "nbconvert_exporter": "python",
   "pygments_lexer": "ipython3",
   "version": "3.9.19"
  }
 },
 "nbformat": 4,
 "nbformat_minor": 5
}
