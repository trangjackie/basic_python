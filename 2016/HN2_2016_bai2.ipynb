{
 "cells": [
  {
   "cell_type": "markdown",
   "id": "de31ed89-55e1-4b13-bc05-da5b75c12dc7",
   "metadata": {},
   "source": [
    "Một hoán vị P của dãy số 1, 2, 3,…, n là một cách sắp xếp các số ấy theo một trật tự nào đó. Ví dụ với n=9 thì P=(5, 9, 1, 8, 2, 6, 4, 7, 3) là một hoán vị.\n",
    "\n",
    "Cho một hoán vị P=(a1, a2, a3,…, an) của dãy 1,2,…,n. Khi đó người ta xây dựng dãy nghịch thế T= (t1, t2, t3…,tn) như sau trong đó ti bằng số các phần tử của hoán vị P nằm bên trái i và lớn hơn i. \n",
    "\n",
    "Nhập vào từ bàn phím một số n và một hoán vị của 1,2,…,n. \n",
    "\n",
    "Tìm và in ra màn hình nghịch thế của hoán vị đó.\n",
    "\n",
    "P = (5, 9, 1, 8, 2, 6, 4, 7, 3)  thì T = (2, 3, 6, 4, 0, 2, 2, 1, 0)"
   ]
  },
  {
   "cell_type": "code",
   "execution_count": 5,
   "id": "2f6d0bc2-9079-4a2b-be3d-fdbd2eaccc05",
   "metadata": {
    "tags": []
   },
   "outputs": [
    {
     "name": "stdout",
     "output_type": "stream",
     "text": [
      "Phần tử 1 nằm ở vị trí: 2\n"
     ]
    }
   ],
   "source": [
    "def find_position(array, x):\n",
    "    for index, value in enumerate(array):\n",
    "        if value == x:\n",
    "            return index\n",
    "    return -1\n",
    "\n",
    "# Ví dụ sử dụng\n",
    "n = 9\n",
    "P = [5, 9, 1, 8, 2, 6, 4, 7, 3]\n",
    "array = P\n",
    "x = 1\n",
    "position = find_position(array, x)\n",
    "if position != -1:\n",
    "    print(f\"Phần tử {x} nằm ở vị trí: {position}\")\n",
    "else:\n",
    "    print(f\"Không tìm thấy phần tử {x} trong mảng\")\n"
   ]
  },
  {
   "cell_type": "code",
   "execution_count": 8,
   "id": "67b29fa6-8886-495d-8d29-9e5850c7ea57",
   "metadata": {
    "tags": []
   },
   "outputs": [
    {
     "name": "stdout",
     "output_type": "stream",
     "text": [
      "Dãy nghịch thế: [1, 5, 0, 9, 7, 2, 5, 1, 2, 5, 2, 3, 2, 0, 0]\n"
     ]
    }
   ],
   "source": [
    "def find_inversion_sequence(n, P):\n",
    "    T = []\n",
    "    for i in range(n):\n",
    "        k = find_position(P,i+1)\n",
    "        if k>-1:\n",
    "            t_i = sum(1 for j in range(k) if P[j] > P[k]) \n",
    "        else:\n",
    "            t_i = 0\n",
    "        T.append(t_i)\n",
    "    return T\n",
    "\n",
    "# Đọc dữ liệu vào\n",
    "#n = int(input(\"Nhập số n: \"))\n",
    "#P = list(map(int, input(f\"Nhập hoán vị của dãy 1, 2, ..., {n}: \").strip().split()))\n",
    "n = 9\n",
    "P = [5, 9, 1, 8, 2, 6, 4, 7, 3]\n",
    "n = 15\n",
    "P = [3, 1, 14, 8, 6, 15, 2, 9, 11, 7, 5, 13, 4, 12, 10]\n",
    "\n",
    "# Tính toán dãy nghịch thế\n",
    "T = find_inversion_sequence(n, P)\n",
    "\n",
    "# In kết quả\n",
    "print(\"Dãy nghịch thế:\", T)\n"
   ]
  },
  {
   "cell_type": "markdown",
   "id": "4fc6466c-3fcc-48b6-8a08-1bcb905f08c2",
   "metadata": {},
   "source": [
    "find_inversion_sequence(n, P): Hàm này tính dãy nghịch thế \n",
    "T\n",
    " của hoán vị \n",
    "P\n",
    ". Với mỗi phần tử \n",
    "i\n",
    " trong dãy, tính số phần tử bên trái \n",
    "i\n",
    " lớn hơn \n",
    "i\n",
    "."
   ]
  },
  {
   "cell_type": "code",
   "execution_count": 2,
   "id": "34278a35-a103-4be2-bb68-7aa1008248c9",
   "metadata": {},
   "outputs": [
    {
     "name": "stdout",
     "output_type": "stream",
     "text": [
      "Dãy nghịch thế T là: [1, 5, 0, 9, 7, 2, 5, 1, 2, 5, 2, 3, 2, 0, 0]\n"
     ]
    }
   ],
   "source": [
    "def find_inversion_sequence(n, permutation):\n",
    "    inversion_sequence = [0] * n\n",
    "    for i in range(n):\n",
    "        count = 0\n",
    "        for j in range(i):\n",
    "            if permutation[j] > permutation[i]:\n",
    "                count += 1\n",
    "        inversion_sequence[permutation[i] - 1] = count\n",
    "    return inversion_sequence\n",
    "\n",
    "# Nhập số n và hoán vị từ bàn phím\n",
    "n = 9 #int(input(\"Nhập số n: \"))\n",
    "permutation = [5, 9, 1, 8, 2, 6, 4, 7, 3] #list(map(int, input(f\"Nhập hoán vị của 1 đến {n}: \").split()))\n",
    "n = 15\n",
    "permutation = [3, 1, 14, 8, 6, 15, 2, 9, 11, 7, 5, 13, 4, 12, 10]\n",
    "# Tìm dãy nghịch thế\n",
    "inversion_sequence = find_inversion_sequence(n, permutation)\n",
    "\n",
    "# In kết quả\n",
    "print(\"Dãy nghịch thế T là:\", inversion_sequence)\n"
   ]
  }
 ],
 "metadata": {
  "kernelspec": {
   "display_name": "my-venv",
   "language": "python",
   "name": "python3"
  },
  "language_info": {
   "codemirror_mode": {
    "name": "ipython",
    "version": 3
   },
   "file_extension": ".py",
   "mimetype": "text/x-python",
   "name": "python",
   "nbconvert_exporter": "python",
   "pygments_lexer": "ipython3",
   "version": "3.11.2"
  }
 },
 "nbformat": 4,
 "nbformat_minor": 5
}
