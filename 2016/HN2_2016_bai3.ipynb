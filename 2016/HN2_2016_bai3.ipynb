{
 "cells": [
  {
   "cell_type": "markdown",
   "id": "dd7da036-c66b-4190-89c0-ebbe89423ec7",
   "metadata": {},
   "source": [
    "Cho một số nguyên dương N, người ta viết các số 1,2,3,…,n liền nhau sẽ tạo ra một số A có thể có rất nhiều chữ số. \n",
    "\n",
    "Ví dụ với n=12 thì số A được tạo ra sẽ là: A= 123456789101112.\n",
    "\n",
    "Lập trình thực hiện các yêu cầu sau:\n",
    "\n",
    "Nhập vào một số nguyên dương n (1≤n<100)\n",
    "\n",
    "In ra màn hình số A\n",
    "\n",
    "Nhập vào một số nguyên dương k, cho biết chữ số thứ k trong số A là chữ số nào.\n",
    "trong trường hợp không có số thứ k thì kết quả ghi -1.\n"
   ]
  },
  {
   "cell_type": "code",
   "execution_count": 11,
   "id": "cbcc2a3a-cb1b-4955-b234-2520c5aa3fe3",
   "metadata": {
    "tags": []
   },
   "outputs": [
    {
     "name": "stdout",
     "output_type": "stream",
     "text": [
      "Số A: 123456789101112\n",
      "Chữ số thứ 13 trong số A là: 1\n"
     ]
    }
   ],
   "source": [
    "def create_number_sequence(n):\n",
    "    # Tạo số A bằng cách nối các số từ 1 đến n\n",
    "    A = ''.join(map(str, range(1, n + 1)))\n",
    "    return A\n",
    "\n",
    "def find_kth_digit(A, k):\n",
    "    # Kiểm tra nếu k nằm ngoài phạm vi của số A\n",
    "    if k <= 0 or k > len(A):\n",
    "        return -1\n",
    "    return A[k - 1]\n",
    "\n",
    "# Nhập số n\n",
    "#n = int(input(\"Nhập số nguyên dương n (1≤n<100): \"))\n",
    "n = 12\n",
    "# Tạo số A\n",
    "A = create_number_sequence(n)\n",
    "print(f\"Số A: {A}\")\n",
    "\n",
    "# Nhập số k\n",
    "#k = int(input(\"Nhập số nguyên dương k: \"))\n",
    "k=13\n",
    "# Tìm chữ số thứ k trong số A\n",
    "kth_digit = find_kth_digit(A, k)\n",
    "print(f\"Chữ số thứ {k} trong số A là: {kth_digit}\")\n"
   ]
  },
  {
   "cell_type": "code",
   "execution_count": null,
   "id": "8fca0427-973c-4725-88c2-58cdbee08fef",
   "metadata": {},
   "outputs": [],
   "source": []
  }
 ],
 "metadata": {
  "kernelspec": {
   "display_name": "Python 3.9 via SLURM 1G",
   "language": "python",
   "name": "jupyter-eg-kernel-slurm-py39-1i96jusr4"
  },
  "language_info": {
   "codemirror_mode": {
    "name": "ipython",
    "version": 3
   },
   "file_extension": ".py",
   "mimetype": "text/x-python",
   "name": "python",
   "nbconvert_exporter": "python",
   "pygments_lexer": "ipython3",
   "version": "3.9.19"
  }
 },
 "nbformat": 4,
 "nbformat_minor": 5
}
