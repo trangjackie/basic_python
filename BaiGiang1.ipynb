{
 "cells": [
  {
   "cell_type": "markdown",
   "id": "5cf3590e-a781-4a5a-ac35-ee3f5d46b3ed",
   "metadata": {},
   "source": [
    "# Python cơ bản"
   ]
  },
  {
   "cell_type": "markdown",
   "id": "a3dc434e-cf80-4933-b89b-44ff4f8251f9",
   "metadata": {},
   "source": [
    "## 1. Biến và Kiểu dữ liệu\n",
    "Biến được sử dụng để lưu trữ dữ liệu. Python hỗ trợ nhiều kiểu dữ liệu khác nhau như số nguyên (int), số thực (float), chuỗi (str), danh sách (list), từ điển (dictionary), tuple, set, và bool."
   ]
  },
  {
   "cell_type": "code",
   "execution_count": 25,
   "id": "0d1c8071-9be1-44cb-91cc-09a9d71f23c6",
   "metadata": {
    "tags": []
   },
   "outputs": [
    {
     "name": "stdout",
     "output_type": "stream",
     "text": [
      "5 3.14 Hello [1, 2, 3] (4, 5, 6) {8, 9, 7} {'key': 'value'} True\n"
     ]
    }
   ],
   "source": [
    "# Biến và kiểu dữ liệu\n",
    "a = 5           # int\n",
    "b = 3.14        # float\n",
    "c = \"Hello\"     # str\n",
    "d = [1, 2, 3]   # list\n",
    "e = (4, 5, 6)   # tuple\n",
    "f = {7, 8, 9}   # set\n",
    "g = {\"key\": \"value\"}  # dictionary\n",
    "h = True        # bool\n",
    "\n",
    "print(a, b, c, d, e, f, g, h)\n"
   ]
  },
  {
   "cell_type": "markdown",
   "id": "02512192",
   "metadata": {},
   "source": [
    "### Sự khác biệt chính giữa các kiểu dữ liệu list, tuple, set, và dictionary trong Python:\n",
    "\n",
    "### 1. List\n",
    "Mutable: Có thể thay đổi sau khi tạo.\n",
    "\n",
    "Ordered: Duy trì thứ tự các phần tử khi thêm vào.\n",
    "\n",
    "Duplicate Elements: Cho phép các phần tử trùng lặp.\n",
    "\n",
    "Ví dụ:\n"
   ]
  },
  {
   "cell_type": "code",
   "execution_count": null,
   "id": "090a5822-8567-4cf1-9e6b-a814d7a54e5d",
   "metadata": {},
   "outputs": [],
   "source": [
    "\n",
    "my_list = [1, 2, 2, 3]\n",
    "print(my_list)  # Output: [1, 2, 2, 3]\n"
   ]
  },
  {
   "cell_type": "markdown",
   "id": "fd49b24e",
   "metadata": {},
   "source": [
    "\n",
    "Khi nào sử dụng: Khi bạn cần một danh sách các phần tử mà có thể thay đổi, và trật tự của các phần tử quan trọng.\n"
   ]
  },
  {
   "cell_type": "markdown",
   "id": "c446203d",
   "metadata": {},
   "source": [
    "\n",
    "### 2. Tuple\n",
    "Immutable: Không thể thay đổi sau khi tạo.\n",
    "\n",
    "Ordered: Duy trì thứ tự các phần tử.\n",
    "\n",
    "Duplicate Elements: Cho phép các phần tử trùng lặp.\n",
    "\n",
    "Ví dụ:\n"
   ]
  },
  {
   "cell_type": "code",
   "execution_count": null,
   "id": "bf2dd6f9-c446-4cd0-b791-164f032377f2",
   "metadata": {},
   "outputs": [],
   "source": [
    "\n",
    "\n",
    "my_tuple = (1, 2, 2, 3)\n",
    "print(my_tuple)  # Output: (1, 2, 2, 3)\n"
   ]
  },
  {
   "cell_type": "markdown",
   "id": "7237d5b5",
   "metadata": {},
   "source": [
    "\n",
    "Khi nào sử dụng: Khi bạn cần một danh sách các phần tử mà không bao giờ thay đổi, và trật tự của các phần tử quan trọng.\n",
    "\n",
    "Ví dụ sử dụng Tuple:\n",
    "\n",
    "Giả sử bạn có một chương trình cần làm việc với các màu RGB cố định. Sử dụng tuple là lý tưởng, vì bạn sẽ không muốn thay đổi các giá trị này."
   ]
  },
  {
   "cell_type": "code",
   "execution_count": 9,
   "id": "ec17d435-b8ac-454e-9b68-d8c57c94d607",
   "metadata": {
    "tags": []
   },
   "outputs": [
    {
     "name": "stdout",
     "output_type": "stream",
     "text": [
      "Red: 255, Green: 0, Blue: 0\n",
      "Red: 0, Green: 255, Blue: 0\n",
      "Red: 0, Green: 0, Blue: 255\n"
     ]
    }
   ],
   "source": [
    "# Tuple chứa các màu RGB\n",
    "colors = ((255, 0, 0), (0, 255, 0), (0, 0, 255))\n",
    "\n",
    "# Sử dụng giá trị trong tuple\n",
    "for color in colors:\n",
    "    print(f\"Red: {color[0]}, Green: {color[1]}, Blue: {color[2]}\")\n"
   ]
  },
  {
   "cell_type": "markdown",
   "id": "b6e3a0a4-e84d-4ac9-b29c-ec066c883657",
   "metadata": {},
   "source": [
    "Khi nào nên sử dụng Tuple thay vì List:\n",
    "- Bất biến: Tuple không thể thay đổi, giúp bảo vệ dữ liệu không bị sửa đổi không mong muốn.\n",
    "- Hiệu suất: Do tính bất biến, tuples thường nhẹ và nhanh hơn lists, đặc biệt khi cần duyệt qua hoặc thao tác với nhiều phần tử.\n",
    "- Bảo mật: Khi bạn muốn chắc chắn rằng dữ liệu không bị thay đổi ở bất cứ đâu trong chương trình của mình, sử dụng tuple sẽ bảo vệ dữ liệu tốt hơn."
   ]
  },
  {
   "cell_type": "markdown",
   "id": "705a8dee",
   "metadata": {},
   "source": [
    "### 3. Set\n",
    "Mutable: Có thể thay đổi sau khi tạo.\n",
    "\n",
    "Unordered: Không duy trì thứ tự các phần tử.\n",
    "\n",
    "Unique Elements: Không cho phép các phần tử trùng lặp.\n",
    "\n",
    "Ví dụ:\n"
   ]
  },
  {
   "cell_type": "code",
   "execution_count": 10,
   "id": "89d0aa91-44b7-4eca-9f0e-5762a6a6db4f",
   "metadata": {
    "tags": []
   },
   "outputs": [
    {
     "name": "stdout",
     "output_type": "stream",
     "text": [
      "{1, 2, 3}\n"
     ]
    }
   ],
   "source": [
    "\n",
    "my_set = {1, 2, 2, 3}\n",
    "print(my_set)  # Output: {1, 2, 3}\n",
    "\n"
   ]
  },
  {
   "cell_type": "markdown",
   "id": "fe0ace1d",
   "metadata": {},
   "source": [
    "Khi nào sử dụng: Khi bạn cần một tập hợp các phần tử không trùng lặp và không quan tâm đến thứ tự.\n"
   ]
  },
  {
   "cell_type": "markdown",
   "id": "f717a971",
   "metadata": {},
   "source": [
    "### 4. Dictionary\n",
    "Mutable: Có thể thay đổi sau khi tạo.\n",
    "\n",
    "Ordered (Python 3.7 trở lên): Duy trì thứ tự các phần tử theo thứ tự thêm vào.\n",
    "\n",
    "Key-Value Pairs: Chứa các cặp key-value, các keys là duy nhất.\n",
    "\n",
    "Ví dụ:\n"
   ]
  },
  {
   "cell_type": "code",
   "execution_count": 11,
   "id": "890e0879-6ee0-4f9d-b260-044d03c6e742",
   "metadata": {
    "tags": []
   },
   "outputs": [
    {
     "name": "stdout",
     "output_type": "stream",
     "text": [
      "{'a': 1, 'b': 3}\n"
     ]
    }
   ],
   "source": [
    "my_dict = {'a': 1, 'b': 2, 'b': 3}\n",
    "print(my_dict)  # Output: {'a': 1, 'b': 3}\n"
   ]
  },
  {
   "cell_type": "markdown",
   "id": "6f929f8c",
   "metadata": {},
   "source": [
    "Khi nào sử dụng: Khi bạn cần một cấu trúc dữ liệu kết hợp các key duy nhất với các giá trị tương ứng, và có thể tra cứu giá trị nhanh chóng qua key."
   ]
  },
  {
   "cell_type": "markdown",
   "id": "f674070e-fab1-4c73-b020-c5cd433d3d20",
   "metadata": {},
   "source": [
    "## 2. Câu lệnh Điều kiện\n",
    "Câu lệnh if, elif, và else được sử dụng để kiểm tra các điều kiện và thực hiện các lệnh tương ứng."
   ]
  },
  {
   "cell_type": "code",
   "execution_count": 26,
   "id": "c5ef665a-1636-4fbd-be02-9c78892ce2fe",
   "metadata": {
    "tags": []
   },
   "outputs": [
    {
     "name": "stdout",
     "output_type": "stream",
     "text": [
      "x là số dương\n"
     ]
    }
   ],
   "source": [
    "# Câu lệnh điều kiện\n",
    "x = 10\n",
    "if x > 0:\n",
    "    print(\"x là số dương\")\n",
    "elif x == 0:\n",
    "    print(\"x bằng 0\")\n",
    "else:\n",
    "    print(\"x là số âm\")\n"
   ]
  },
  {
   "cell_type": "markdown",
   "id": "b99d8f1a-bde0-441c-8001-69ee69d66df1",
   "metadata": {},
   "source": [
    "## 3. Vòng lặp\n",
    "Python hỗ trợ các vòng lặp như for và while."
   ]
  },
  {
   "cell_type": "code",
   "execution_count": 27,
   "id": "8861f668-4a50-4db6-a8cb-1bc5039c9777",
   "metadata": {
    "tags": []
   },
   "outputs": [
    {
     "name": "stdout",
     "output_type": "stream",
     "text": [
      "0\n",
      "1\n",
      "2\n",
      "3\n",
      "4\n",
      "0\n",
      "1\n",
      "2\n",
      "3\n",
      "4\n"
     ]
    }
   ],
   "source": [
    "# Vòng lặp for\n",
    "for i in range(5):\n",
    "    print(i)\n",
    "\n",
    "# Vòng lặp while\n",
    "i = 0\n",
    "while i < 5:\n",
    "    print(i)\n",
    "    i += 1\n"
   ]
  },
  {
   "cell_type": "markdown",
   "id": "e928c81d-f503-4dff-b683-3cb1505237c8",
   "metadata": {},
   "source": [
    "## 4. Hàm\n",
    "Hàm được định nghĩa bằng từ khóa def và có thể nhận tham số và trả về giá trị."
   ]
  },
  {
   "cell_type": "code",
   "execution_count": 28,
   "id": "f5ca837e-9914-41db-8fc1-04533c603698",
   "metadata": {
    "tags": []
   },
   "outputs": [
    {
     "name": "stdout",
     "output_type": "stream",
     "text": [
      "7\n"
     ]
    }
   ],
   "source": [
    "# Hàm\n",
    "def sum(a, b):\n",
    "    return a + b\n",
    "\n",
    "result = sum(3, 4)\n",
    "print(result)\n"
   ]
  },
  {
   "cell_type": "markdown",
   "id": "acd2db87-4ba7-4436-9f4a-739b445145d8",
   "metadata": {},
   "source": [
    "Để trả về nhiều giá trị từ một hàm, bạn có thể sử dụng tuple."
   ]
  },
  {
   "cell_type": "code",
   "execution_count": 12,
   "id": "eb2f0f4a-a93d-4ea7-954b-92cbe381b185",
   "metadata": {
    "tags": []
   },
   "outputs": [
    {
     "name": "stdout",
     "output_type": "stream",
     "text": [
      "Name: Alice, Age: 30, City: New York\n"
     ]
    }
   ],
   "source": [
    "def get_person_info():\n",
    "    name = \"Alice\"\n",
    "    age = 30\n",
    "    city = \"New York\"\n",
    "    return name, age, city\n",
    "\n",
    "# Gọi hàm và nhận các giá trị trả về\n",
    "person_name, person_age, person_city = get_person_info()\n",
    "print(f\"Name: {person_name}, Age: {person_age}, City: {person_city}\")\n",
    "# Output: Name: Alice, Age: 30, City: New York\n"
   ]
  },
  {
   "cell_type": "markdown",
   "id": "06c4a292-4155-45d4-b775-652c86ddb9a5",
   "metadata": {},
   "source": [
    "## 5. Chuỗi và Danh sách\n",
    "Làm việc với chuỗi và danh sách là kỹ năng quan trọng trong Python."
   ]
  },
  {
   "cell_type": "code",
   "execution_count": null,
   "id": "b0b95632-5af6-4199-a0b4-74ed500e5ca0",
   "metadata": {},
   "outputs": [],
   "source": [
    "# Chuỗi\n",
    "s = \"Hello, Python!\"\n",
    "print(s.lower())\n",
    "print(s.upper())\n",
    "print(s[0:5])\n",
    "\n",
    "# Danh sách\n",
    "lst = [1, 2, 3, 4, 5]\n",
    "lst.append(6)\n",
    "print(lst)\n",
    "print(lst[1:4])\n"
   ]
  },
  {
   "cell_type": "markdown",
   "id": "656cfe07-087b-4794-b36d-f87e0aadd4d4",
   "metadata": {},
   "source": [
    "## 6. Tập tin\n",
    "Python có thể đọc và ghi dữ liệu vào tập tin."
   ]
  },
  {
   "cell_type": "code",
   "execution_count": null,
   "id": "32374d78-e082-48c6-8925-0d46fd9831d4",
   "metadata": {},
   "outputs": [],
   "source": [
    "# Đọc tệp\n",
    "with open(\"input.txt\", \"r\") as file:\n",
    "    data = file.read()\n",
    "    print(data)\n",
    "\n",
    "# Ghi tệp\n",
    "with open(\"output.txt\", \"w\") as file:\n",
    "    file.write(\"Hello, world!\")\n"
   ]
  },
  {
   "cell_type": "markdown",
   "id": "152b21d6-b6e4-40f4-9ef5-0552fa0f66c8",
   "metadata": {},
   "source": [
    "## 7. Xử lý Ngoại lệ\n",
    "Sử dụng try và except để xử lý ngoại lệ."
   ]
  },
  {
   "cell_type": "code",
   "execution_count": 13,
   "id": "738c5f70-adeb-4189-8970-f4c133720c52",
   "metadata": {
    "tags": []
   },
   "outputs": [
    {
     "name": "stdout",
     "output_type": "stream",
     "text": [
      "Không thể chia cho 0!\n"
     ]
    }
   ],
   "source": [
    "# Xử lý ngoại lệ\n",
    "try:\n",
    "    x = 1 / 0\n",
    "except ZeroDivisionError:\n",
    "    print(\"Không thể chia cho 0!\")\n"
   ]
  },
  {
   "cell_type": "markdown",
   "id": "5cd19b9e-ec6f-4b76-b86f-e91c65a11e5f",
   "metadata": {},
   "source": [
    "Python cung cấp một loạt các ngoại lệ tích hợp sẵn mà bạn có thể xử lý. Dưới đây là một số ngoại lệ phổ biến:\n",
    "\n",
    "**Exception:** Lớp cơ sở cho tất cả các ngoại lệ.\n",
    "\n",
    "**StopIteration:** Được đưa ra bởi phương thức next() của các đối tượng iterator để chỉ định rằng không còn giá trị nào để lặp qua.\n",
    "\n",
    "**ArithmeticError:** Lớp cơ sở cho các ngoại lệ xảy ra cho các lỗi toán học.\n",
    "\n",
    "**ZeroDivisionError:** Chia cho số 0.\n",
    "\n",
    "**OverflowError:** Toán học vượt qua giới hạn của kiểu.\n",
    "\n",
    "**LookupError:** Lớp cơ sở cho các ngoại lệ liên quan đến tra cứu.\n",
    "\n",
    "**IndexError:** Chỉ mục không hợp lệ.\n",
    "\n",
    "**KeyError:** Khóa không tìm thấy trong từ điển.\n",
    "\n",
    "**ValueError:** Được đưa ra khi một đối số có giá trị không hợp lệ.\n",
    "\n",
    "**TypeError:** Được đưa ra khi một thao tác hoặc hàm được áp dụng cho một đối tượng thuộc kiểu không hợp lệ.\n",
    "\n",
    "**ImportError:** Được đưa ra khi không thể nhập mô-đun.\n",
    "\n",
    "**IOError:** Được đưa ra khi xảy ra lỗi nhập/xuất.\n",
    "\n",
    "**FileNotFoundError:** Không tìm thấy tệp hoặc thư mục.\n",
    "\n",
    "**OSError:** Lỗi hệ điều hành."
   ]
  },
  {
   "cell_type": "code",
   "execution_count": 14,
   "id": "ad4b0acd-15a8-4858-a9d6-9c529b73c24f",
   "metadata": {
    "tags": []
   },
   "outputs": [
    {
     "name": "stdout",
     "output_type": "stream",
     "text": [
      "Lỗi: Tệp không tồn tại\n"
     ]
    }
   ],
   "source": [
    "try:\n",
    "    # Mở tệp trong chế độ đọc\n",
    "    with open('example.txt', 'r') as file:\n",
    "        data = file.read()\n",
    "        print(data)\n",
    "except FileNotFoundError:\n",
    "    print(\"Lỗi: Tệp không tồn tại\")\n",
    "except IOError:\n",
    "    print(\"Lỗi: Không thể đọc tệp\")\n",
    "except Exception as e:\n",
    "    print(f\"Lỗi không mong muốn: {e}\")\n"
   ]
  },
  {
   "cell_type": "markdown",
   "id": "f979fb9a-dc3b-41da-a046-7edb40f084da",
   "metadata": {},
   "source": [
    "## 8. Lập trình Hướng đối tượng (OOP)\n",
    "Python hỗ trợ lập trình hướng đối tượng, cho phép tạo class và object."
   ]
  },
  {
   "cell_type": "code",
   "execution_count": null,
   "id": "f67683f8-d649-433c-958c-4264fd781f06",
   "metadata": {},
   "outputs": [],
   "source": [
    "# Lập trình hướng đối tượng\n",
    "class Person:\n",
    "    def __init__(self, name, age):\n",
    "        self.name = name\n",
    "        self.age = age\n",
    "\n",
    "    def greet(self):\n",
    "        print(f\"Hello, my name is {self.name} and I'm {self.age} years old.\")\n",
    "\n",
    "# Tạo object\n",
    "person = Person(\"Alice\", 30)\n",
    "person.greet()\n"
   ]
  },
  {
   "cell_type": "code",
   "execution_count": null,
   "id": "fa859a48-9b78-4df3-aeec-6e9db970d4a3",
   "metadata": {},
   "outputs": [],
   "source": []
  }
 ],
 "metadata": {
  "kernelspec": {
   "display_name": "Python 3.9 via SLURM 1G",
   "language": "python",
   "name": "jupyter-eg-kernel-slurm-py39-1i96jusr4"
  },
  "language_info": {
   "codemirror_mode": {
    "name": "ipython",
    "version": 3
   },
   "file_extension": ".py",
   "mimetype": "text/x-python",
   "name": "python",
   "nbconvert_exporter": "python",
   "pygments_lexer": "ipython3",
   "version": "3.9.19"
  }
 },
 "nbformat": 4,
 "nbformat_minor": 5
}
